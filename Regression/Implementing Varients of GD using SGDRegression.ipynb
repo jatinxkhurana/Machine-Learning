{
  "nbformat": 4,
  "nbformat_minor": 0,
  "metadata": {
    "colab": {
      "provenance": []
    },
    "kernelspec": {
      "name": "python3",
      "display_name": "Python 3"
    },
    "language_info": {
      "name": "python"
    }
  },
  "cells": [
    {
      "cell_type": "code",
      "source": [
        "from sklearn.datasets import fetch_california_housing, make_regression\n",
        "from sklearn.linear_model import LinearRegression, SGDRegressor\n",
        "from sklearn.model_selection import train_test_split\n",
        "from sklearn.metrics import r2_score\n",
        "from sklearn.preprocessing import StandardScaler\n",
        "import numpy as np\n",
        "import pandas as pd\n",
        "import time\n",
        "\n",
        "california=fetch_california_housing()\n",
        "X=california.data\n",
        "y=california.target\n",
        "\n",
        "X_train, X_test, y_train, y_test = train_test_split(X, y, test_size=0.2, random_state=42)\n",
        "\n",
        "scaler=StandardScaler()\n",
        "X_train=scaler.fit_transform(X_train)\n",
        "X_test=scaler.transform(X_test)\n",
        "\n"
      ],
      "metadata": {
        "id": "tobJl7ypah3L"
      },
      "execution_count": 77,
      "outputs": []
    },
    {
      "cell_type": "code",
      "source": [
        "#using batch gradient descent\n",
        "batch=SGDRegressor(\n",
        "    max_iter=100,\n",
        "    eta0=0.001,\n",
        ")\n",
        "start_time=time.time()\n",
        "for epoch in range(100):\n",
        "  batch.partial_fit(X_train, y_train)\n",
        "\n",
        "batch_time=time.time() - start_time\n",
        "print(\"Time taken by Batch simulation: \", batch_time)\n",
        "y_pred=batch.predict(X_test)\n",
        "print(\"R2 Score of Batch simulation: \", r2_score(y_test,y_pred))"
      ],
      "metadata": {
        "colab": {
          "base_uri": "https://localhost:8080/"
        },
        "id": "IkNDE4wGD22c",
        "outputId": "aac55158-da58-4bb9-ff5c-a74bc8b5a64c"
      },
      "execution_count": 79,
      "outputs": [
        {
          "output_type": "stream",
          "name": "stdout",
          "text": [
            "Time taken by Batch simulation:  0.1529402732849121\n",
            "R2 Score of Batch simulation:  0.5764608915859307\n"
          ]
        }
      ]
    },
    {
      "cell_type": "code",
      "source": [
        "# Mini-batch gradient descent\n",
        "start_time=time.time()\n",
        "mini = SGDRegressor(max_iter=1, eta0=0.0001, learning_rate='constant', tol=None)\n",
        "batch_size = 128\n",
        "n_samples = X_train.shape[0]\n",
        "\n",
        "# Train with mini-batches over multiple epochs\n",
        "for epoch in range(100):\n",
        "    indices = np.random.permutation(n_samples)  # shuffle each epoch\n",
        "    X_train_shuffled = X_train[indices]\n",
        "    y_train_shuffled = y_train[indices]\n",
        "\n",
        "    for start in range(0, n_samples, batch_size):\n",
        "        end = start + batch_size\n",
        "        X_batch = X_train_shuffled[start:end]\n",
        "        y_batch = y_train_shuffled[start:end]\n",
        "        mini.partial_fit(X_batch, y_batch)\n",
        "mini_time=time.time() - start_time\n",
        "# Predict and evaluate\n",
        "y_pred = mini.predict(X_test)\n",
        "print(\"Time taken by mini batch simulation: \", mini_time)\n",
        "print(\"R² Score of mini batch simulation :\", r2_score(y_test, y_pred))\n"
      ],
      "metadata": {
        "colab": {
          "base_uri": "https://localhost:8080/"
        },
        "id": "F4rVvhcy9Fb3",
        "outputId": "cb9a5d43-0b97-43f6-8857-5a5bbd3634cb"
      },
      "execution_count": 76,
      "outputs": [
        {
          "output_type": "stream",
          "name": "stdout",
          "text": [
            "R² Score: 0.571908093744653 4.921675443649292\n"
          ]
        }
      ]
    },
    {
      "cell_type": "code",
      "source": [
        "#applying stochastic gradient descent\n",
        "start_time=time.time()\n",
        "\n",
        "sgd=SGDRegressor(\n",
        "    max_iter=1000,\n",
        "    eta0=0.001\n",
        ")\n",
        "sgd.fit(X_train,y_train)\n",
        "sgd_time=time.time() - start_time\n",
        "y_pred=sgd.predict(X_test)\n",
        "print(\"Time taken by stochastic simulation: \",sgd_time)\n",
        "print(\"R² Score of stochastic simulation :\", r2_score(y_test, y_pred))\n"
      ],
      "metadata": {
        "colab": {
          "base_uri": "https://localhost:8080/"
        },
        "id": "8kuRWX6W_5pi",
        "outputId": "67209ec9-7e61-40dd-999d-5ad5293ebf1e"
      },
      "execution_count": 80,
      "outputs": [
        {
          "output_type": "stream",
          "name": "stdout",
          "text": [
            "Time taken by stochastic simulation:  0.03183150291442871\n",
            "R² Score of stochastic simulation : 0.5762727711172069\n"
          ]
        }
      ]
    }
  ]
}