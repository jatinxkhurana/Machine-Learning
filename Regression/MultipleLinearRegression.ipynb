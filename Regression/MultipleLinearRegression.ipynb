{
  "nbformat": 4,
  "nbformat_minor": 0,
  "metadata": {
    "colab": {
      "provenance": []
    },
    "kernelspec": {
      "name": "python3",
      "display_name": "Python 3"
    },
    "language_info": {
      "name": "python"
    }
  },
  "cells": [
    {
      "cell_type": "code",
      "source": [
        "from sklearn.model_selection import train_test_split\n",
        "from sklearn.datasets import fetch_california_housing\n",
        "from sklearn.linear_model import LinearRegression\n",
        "from sklearn.metrics import r2_score\n",
        "import numpy as np\n",
        "\n",
        "#fetching data and dividing it into training and test set\n",
        "california=fetch_california_housing()\n",
        "X=california.data\n",
        "y=california.target\n",
        "X_train, X_test, y_train, y_test = train_test_split(X, y, test_size=0.2, random_state=42)\n",
        "\n",
        "#training model using LinearRegression class of sklearn\n",
        "model=LinearRegression()\n",
        "model.fit(X_train, y_train)\n",
        "y_pred=model.predict(X_test)\n",
        "print(\"R2 Score using LinearRegression: \", r2_score(y_test, y_pred))\n",
        "print(\"Coefficients: \" , model.coef_)\n",
        "print(\"Intercept: \", model.intercept_)\n",
        "\n",
        "#creating own class for Multiple Linear Regression\n",
        "class MLR:\n",
        "  def __init__(self):\n",
        "    self.coef_=None\n",
        "    self.intercept_=None\n",
        "\n",
        "  def fit(self, X_train, y_train):\n",
        "    X_train=np.insert(X_train, 0, 1, axis=1) # to insert 1 as first column because of intercept\n",
        "\n",
        "    betas=np.linalg.inv(np.dot(X_train.T, X_train)).dot(X_train.T).dot(y_train)\n",
        "\n",
        "    self.intercept_=betas[:1]\n",
        "    self.coef_=betas[1:]\n",
        "\n",
        "  def predict(self,X_test):\n",
        "    return np.dot(X_test,self.coef_) + self.intercept_\n",
        "\n",
        "#training model from own Regression Class\n",
        "mlr=MLR()\n",
        "mlr.fit(X_train, y_train)\n",
        "y_pred=mlr.predict(X_test)\n",
        "print(\"\\n\\nR2 Score using MLR: \", r2_score(y_test, y_pred))\n",
        "print(\"Coefficients: \" , mlr.coef_)\n",
        "print(\"Intercept: \", mlr.intercept_)"
      ],
      "metadata": {
        "colab": {
          "base_uri": "https://localhost:8080/"
        },
        "id": "Dcke9uOssu68",
        "outputId": "a674c571-cb42-4378-8abb-9ef02811537e"
      },
      "execution_count": 64,
      "outputs": [
        {
          "output_type": "stream",
          "name": "stdout",
          "text": [
            "R2 Score using LinearRegression:  0.5757877060324524\n",
            "Coefficients:  [ 4.48674910e-01  9.72425752e-03 -1.23323343e-01  7.83144907e-01\n",
            " -2.02962058e-06 -3.52631849e-03 -4.19792487e-01 -4.33708065e-01]\n",
            "Intercept:  -37.02327770606391\n",
            "\n",
            "\n",
            "R2 Score using MLR:  0.5757877060319203\n",
            "Coefficients:  [ 4.48674910e-01  9.72425752e-03 -1.23323343e-01  7.83144907e-01\n",
            " -2.02962058e-06 -3.52631849e-03 -4.19792487e-01 -4.33708065e-01]\n",
            "Intercept:  [-37.02327771]\n"
          ]
        }
      ]
    },
    {
      "cell_type": "code",
      "source": [],
      "metadata": {
        "id": "Xa90I8AHwtNu"
      },
      "execution_count": null,
      "outputs": []
    }
  ]
}