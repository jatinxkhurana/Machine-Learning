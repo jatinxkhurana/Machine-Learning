{
  "nbformat": 4,
  "nbformat_minor": 0,
  "metadata": {
    "colab": {
      "provenance": []
    },
    "kernelspec": {
      "name": "python3",
      "display_name": "Python 3"
    },
    "language_info": {
      "name": "python"
    }
  },
  "cells": [
    {
      "cell_type": "code",
      "source": [
        "from sklearn.datasets import fetch_california_housing\n",
        "from sklearn.model_selection import train_test_split\n",
        "from sklearn.preprocessing import StandardScaler, PolynomialFeatures\n",
        "from sklearn.linear_model import LinearRegression\n",
        "from sklearn.metrics import r2_score\n",
        "import time\n",
        "\n",
        "# Load and split data\n",
        "california = fetch_california_housing()\n",
        "X, y = california.data, california.target\n",
        "X_train, X_test, y_train, y_test = train_test_split(X, y, test_size=0.2, random_state=42)\n",
        "\n",
        "start_time=time.time()\n",
        "lr1=LinearRegression()\n",
        "lr1.fit(X_train, y_train)\n",
        "end_time=time.time()-start_time\n",
        "y_pred=lr1.predict(X_test)\n",
        "print(\"Time taken with linear Regression: \", end_time)\n",
        "print(\"R2 score with linear Regression: \", r2_score(y_test,y_pred))\n",
        "\n",
        "\n",
        "#Transforming feaatures in polynomial so that linear regression model can learn the pattern\n",
        "poly=PolynomialFeatures(degree=2, include_bias=True)\n",
        "X_train=poly.fit_transform(X_train)\n",
        "X_test=poly.transform(X_test)\n",
        "\n",
        "start_time=time.time()\n",
        "lr2=LinearRegression()\n",
        "lr2.fit(X_train, y_train)\n",
        "end_time=time.time()-start_time\n",
        "y_pred=lr2.predict(X_test)\n",
        "print(\"\\nTime taken with Polynomial Regression: \", end_time)   # greater time because dimension has increased\n",
        "print(\"R2 score with Polynomial Regression: \", r2_score(y_test,y_pred))"
      ],
      "metadata": {
        "colab": {
          "base_uri": "https://localhost:8080/"
        },
        "id": "CW1BEe-NHYeM",
        "outputId": "bde0ac3c-6472-4102-f630-b6f10e86bc97"
      },
      "execution_count": 101,
      "outputs": [
        {
          "output_type": "stream",
          "name": "stdout",
          "text": [
            "Time taken with linear Regression:  0.011874675750732422\n",
            "R2 score with linear Regression:  0.5757877060324524\n",
            "\n",
            "Time taken with Polynomial Regression:  0.025213003158569336\n",
            "R2 score with Polynomial Regression:  0.6456819711504156\n"
          ]
        }
      ]
    }
  ]
}