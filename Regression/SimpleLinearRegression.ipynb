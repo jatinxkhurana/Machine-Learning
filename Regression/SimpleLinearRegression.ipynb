{
  "nbformat": 4,
  "nbformat_minor": 0,
  "metadata": {
    "colab": {
      "provenance": []
    },
    "kernelspec": {
      "name": "python3",
      "display_name": "Python 3"
    },
    "language_info": {
      "name": "python"
    }
  },
  "cells": [
    {
      "cell_type": "code",
      "source": [
        "import numpy as np\n",
        "from sklearn.linear_model import LinearRegression\n",
        "from sklearn.datasets import make_regression\n",
        "from sklearn.model_selection import train_test_split\n",
        "from sklearn.metrics import r2_score\n",
        "\n",
        "#creating Datasets\n",
        "X,y = make_regression(n_samples=100, n_features=1,noise=22,random_state=42)\n",
        "X_train,X_test, y_train, y_test= train_test_split(X,y, test_size=0.2, random_state=42)\n",
        "\n",
        "#using LinearRegression Class\n",
        "model=LinearRegression()\n",
        "model.fit(X_train, y_train)\n",
        "y_pred=model.predict(X_test)\n",
        "print(r2_score(y_test,y_pred))\n",
        "\n",
        "#Creating Class from Scratch\n",
        "class SLR:\n",
        "  def __init__(self):\n",
        "    self.coef_=None\n",
        "    self.intercept_=None\n",
        "\n",
        "  def fit(self,X_train,y_train):\n",
        "    X_train=X_train.ravel()\n",
        "    y_train=y_train.ravel()\n",
        "    self.coef_=np.sum((y_train-np.mean(y_train))*(X_train-np.mean(X_train))) / np.sum((X_train-np.mean(X_train))**2)\n",
        "    self.intercept_=np.mean(y_train)-self.coef_*np.mean(X_train)\n",
        "\n",
        "  def predict(self,X_test):\n",
        "    X_test=X_test.ravel()\n",
        "    return self.coef_*X_test + self.intercept_\n",
        "\n",
        "#implementing SLR\n",
        "slr=SLR()\n",
        "slr.fit(X_train,y_train)\n",
        "y_pred1= slr.predict(X_test)\n",
        "print(model.coef_, slr.coef_)\n",
        "print(model.intercept_, slr.intercept_)"
      ],
      "metadata": {
        "colab": {
          "base_uri": "https://localhost:8080/"
        },
        "id": "nibS7E2ocFt6",
        "outputId": "8093b630-8197-4361-975c-a18afa61981a"
      },
      "execution_count": 53,
      "outputs": [
        {
          "output_type": "stream",
          "name": "stdout",
          "text": [
            "0.7719816470714711\n",
            "[47.24788037] 47.247880365289774\n",
            "0.21828887129693086 0.21828887129693353\n"
          ]
        }
      ]
    }
  ]
}